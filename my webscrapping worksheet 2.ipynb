{
 "cells": [
  {
   "cell_type": "code",
   "execution_count": 8,
   "metadata": {},
   "outputs": [],
   "source": [
    "from selenium import webdriver\n",
    "import os\n"
   ]
  },
  {
   "cell_type": "code",
   "execution_count": 2,
   "metadata": {},
   "outputs": [
    {
     "data": {
      "text/plain": [
       "'C:\\\\Users\\\\ankit'"
      ]
     },
     "execution_count": 2,
     "metadata": {},
     "output_type": "execute_result"
    }
   ],
   "source": [
    "os. getcwd()"
   ]
  },
  {
   "cell_type": "code",
   "execution_count": 15,
   "metadata": {},
   "outputs": [
    {
     "name": "stdout",
     "output_type": "stream",
     "text": [
      "Collecting webdriver-manager\n",
      "  Downloading https://files.pythonhosted.org/packages/2a/88/bc1f85fd733cf6bcae3c6e5c86ea124e91c49eb694d47dfef7f37f4394eb/webdriver_manager-3.2.2-py2.py3-none-any.whl\n",
      "Collecting crayons (from webdriver-manager)\n",
      "  Downloading https://files.pythonhosted.org/packages/5b/0d/e3fad4ca1de8e70e06444e7d777a5984261e1db98758b5be3e8296c03fe9/crayons-0.4.0-py2.py3-none-any.whl\n",
      "Requirement already satisfied: requests in c:\\users\\ankit\\appdata\\local\\continuum\\anaconda3\\lib\\site-packages (from webdriver-manager) (2.22.0)\n",
      "Collecting configparser (from webdriver-manager)\n",
      "  Downloading https://files.pythonhosted.org/packages/4b/6b/01baa293090240cf0562cc5eccb69c6f5006282127f2b846fad011305c79/configparser-5.0.0-py3-none-any.whl\n",
      "Requirement already satisfied: colorama in c:\\users\\ankit\\appdata\\local\\continuum\\anaconda3\\lib\\site-packages (from crayons->webdriver-manager) (0.4.1)\n",
      "Requirement already satisfied: chardet<3.1.0,>=3.0.2 in c:\\users\\ankit\\appdata\\local\\continuum\\anaconda3\\lib\\site-packages (from requests->webdriver-manager) (3.0.4)\n",
      "Requirement already satisfied: urllib3!=1.25.0,!=1.25.1,<1.26,>=1.21.1 in c:\\users\\ankit\\appdata\\local\\continuum\\anaconda3\\lib\\site-packages (from requests->webdriver-manager) (1.24.2)\n",
      "Requirement already satisfied: idna<2.9,>=2.5 in c:\\users\\ankit\\appdata\\local\\continuum\\anaconda3\\lib\\site-packages (from requests->webdriver-manager) (2.8)\n",
      "Requirement already satisfied: certifi>=2017.4.17 in c:\\users\\ankit\\appdata\\local\\continuum\\anaconda3\\lib\\site-packages (from requests->webdriver-manager) (2019.9.11)\n",
      "Installing collected packages: crayons, configparser, webdriver-manager\n",
      "Successfully installed configparser-5.0.0 crayons-0.4.0 webdriver-manager-3.2.2\n",
      "Note: you may need to restart the kernel to use updated packages.\n"
     ]
    }
   ],
   "source": [
    "pip install webdriver-manager"
   ]
  },
  {
   "cell_type": "code",
   "execution_count": 16,
   "metadata": {},
   "outputs": [
    {
     "name": "stderr",
     "output_type": "stream",
     "text": [
      "[WDM] - Current google-chrome version is 85.0.4183\n",
      "[WDM] - Get LATEST driver version for 85.0.4183\n"
     ]
    },
    {
     "name": "stdout",
     "output_type": "stream",
     "text": [
      " \n"
     ]
    },
    {
     "name": "stderr",
     "output_type": "stream",
     "text": [
      "[WDM] - There is no [win32] chromedriver for browser 85.0.4183 in cache\n",
      "[WDM] - Get LATEST driver version for 85.0.4183\n",
      "[WDM] - Trying to download new driver from http://chromedriver.storage.googleapis.com/85.0.4183.87/chromedriver_win32.zip\n",
      "[WDM] - Driver has been saved in cache [C:\\Users\\ankit\\.wdm\\drivers\\chromedriver\\win32\\85.0.4183.87]\n"
     ]
    }
   ],
   "source": [
    "\n",
    "from webdriver_manager.chrome import ChromeDriverManager\n",
    "\n",
    "driver = webdriver.Chrome(ChromeDriverManager().install())"
   ]
  },
  {
   "cell_type": "code",
   "execution_count": 17,
   "metadata": {},
   "outputs": [],
   "source": [
    "mypage=driver.get('https://www.flipkart.com/sunglasses/ray-ban~brand/pr?sid=26x')"
   ]
  },
  {
   "cell_type": "code",
   "execution_count": 18,
   "metadata": {},
   "outputs": [],
   "source": [
    "def make_directory(dirname):\n",
    "    currentpath=os.getcwd()\n",
    "    path=os.path.join(currentpath,dirname)\n",
    "    if not os.path.exists(path):\n",
    "        os.makedirs(path)"
   ]
  },
  {
   "cell_type": "code",
   "execution_count": 20,
   "metadata": {},
   "outputs": [],
   "source": [
    "make_directory('SUNGLASSES')"
   ]
  },
  {
   "cell_type": "code",
   "execution_count": 34,
   "metadata": {},
   "outputs": [],
   "source": [
    "images=driver.find_elements_by_xpath(\"//img[@class='_3togXc']\")"
   ]
  },
  {
   "cell_type": "code",
   "execution_count": 35,
   "metadata": {},
   "outputs": [
    {
     "name": "stdout",
     "output_type": "stream",
     "text": [
      "40\n"
     ]
    }
   ],
   "source": [
    "print(len(images))"
   ]
  },
  {
   "cell_type": "code",
   "execution_count": 36,
   "metadata": {},
   "outputs": [
    {
     "name": "stdout",
     "output_type": "stream",
     "text": [
      "<selenium.webdriver.remote.webelement.WebElement (session=\"aa87d82d4892dc09744a9ea5180d191e\", element=\"209bccdd-3d9e-47e9-8aee-00beb9f943f9\")>\n"
     ]
    }
   ],
   "source": [
    "print(images[0])"
   ]
  },
  {
   "cell_type": "code",
   "execution_count": 37,
   "metadata": {},
   "outputs": [],
   "source": [
    "urls=[]"
   ]
  },
  {
   "cell_type": "code",
   "execution_count": 43,
   "metadata": {},
   "outputs": [
    {
     "name": "stdout",
     "output_type": "stream",
     "text": [
      "https://rukminim1.flixcart.com/image/309/371/sunglass/3/c/h/0rb3025i-001-51-ray-ban-58-original-imadwmsxjgyk8zj5.jpeg?q=50\n",
      "https://rukminim1.flixcart.com/image/494/593/k8ho0i80/sunglass/p/t/k/54-0rb4171-ray-ban-original-imafqhhduexfsrgv.jpeg?q=50\n",
      "https://rukminim1.flixcart.com/image/309/371/jj8vyq80/sunglass/w/x/d/55-0rb4165-ray-ban-original-imaf6sstqryqkgze.jpeg?q=50\n",
      "https://rukminim1.flixcart.com/image/309/371/juu4jgw0/sunglass/k/c/k/55-0rb35889146-155-ray-ban-original-imaffhqbqarmveff.jpeg?q=50\n",
      "https://rukminim1.flixcart.com/image/309/371/jcgjo280/sunglass/f/z/j/0rb3025il020558-58-ray-ban-original-imaffh7kugyggnff.jpeg?q=50\n",
      "https://rukminim1.flixcart.com/image/494/593/jj7givk0/sunglass/h/2/h/58-0rb3025i-ray-ban-original-imaexcmg93ybdxb9.jpeg?q=50\n",
      "https://rukminim1.flixcart.com/image/494/593/k8ho0i80/sunglass/a/g/h/51-0rb4252i-ray-ban-original-imafqhhd3ufhm4d7.jpeg?q=50\n",
      "https://rukminim1.flixcart.com/image/309/371/sunglass/q/j/z/0rb3025i031-3258-ray-ban-58-original-imadtrdtyy7xx56p.jpeg?q=50\n",
      "https://rukminim1.flixcart.com/image/309/371/sunglass/w/f/g/0rb3025112-4l58-ray-ban-58-original-imaeazzaxrxkmngk.jpeg?q=50\n",
      "https://rukminim1.flixcart.com/image/309/371/k8ho0i80/sunglass/f/j/j/56-0rb4387601-7156-ray-ban-original-imafqhhcbptjbjxj.jpeg?q=50\n",
      "https://rukminim1.flixcart.com/image/309/371/jcnovbk0/sunglass/y/x/r/0rb344700153-53-ray-ban-original-imaffh7kgzhfqpfs.jpeg?q=50\n",
      "https://rukminim1.flixcart.com/image/309/371/sunglass/d/c/9/3052i-60-w3180-ray-ban-m-original-imaem82yvgjh6zxk.jpeg?q=50\n",
      "https://rukminim1.flixcart.com/image/309/371/sunglass/u/g/7/0rb3342i004-58-ray-ban-63-original-imadswbuxzksdvmu.jpeg?q=50\n",
      "https://rukminim1.flixcart.com/image/309/371/k8ho0i80/sunglass/5/d/t/50-0rb4340-ray-ban-original-imafqhhcxtbpzwhw.jpeg?q=50\n",
      "https://rukminim1.flixcart.com/image/309/371/k8ho0i80/sunglass/k/m/k/62-0rb3025i001-5862-ray-ban-original-imafqhhcsshwqwzg.jpeg?q=50\n",
      "https://rukminim1.flixcart.com/image/309/371/k8ho0i80/sunglass/e/g/z/47-0rj9052s152-7347-ray-ban-original-imafqhhckxpnrras.jpeg?q=50\n",
      "https://rukminim1.flixcart.com/image/309/371/j20qv0w0/sunglass/n/r/2/56-0rb3381i00456-ray-ban-original-imaethyrf3hgwrxa.jpeg?q=50\n",
      "https://rukminim1.flixcart.com/image/309/371/k8ho0i80/sunglass/x/c/y/58-0rb3025i004-7858-ray-ban-original-imafqhhcx9epaxvx.jpeg?q=50\n",
      "https://rukminim1.flixcart.com/image/309/371/kcc9q4w0/sunglass/5/f/f/56-rb-4269-894-80-56-ray-ban-original-imafthqzrg5sd7zx.jpeg?q=50\n",
      "https://rukminim1.flixcart.com/image/309/371/k8ho0i80/sunglass/w/r/m/63-0rb3412i00163-ray-ban-original-imafqhhccwhxmetc.jpeg?q=50\n",
      "https://rukminim1.flixcart.com/image/309/371/jhjg13k0/sunglass/7/b/c/55-0rb3025i088-3f55-ray-ban-original-imaf5jazzjktdnx2.jpeg?q=50\n",
      "https://rukminim1.flixcart.com/image/309/371/j20qv0w0/sunglass/3/j/z/55-0rb3025032-3255-ray-ban-original-imaeth2rhyp9rydf.jpeg?q=50\n",
      "https://rukminim1.flixcart.com/image/309/371/jezzukw0/sunglass/5/c/3/0rb3584n-58-ray-ban-original-imaf3kgw8hdmqvfb.jpeg?q=50\n",
      "https://rukminim1.flixcart.com/image/309/371/juip0nk0/sunglass/z/p/f/54-0rb3547001-3m54-ray-ban-original-imaffmvvrhzwaz7j.jpeg?q=50\n",
      "https://rukminim1.flixcart.com/image/309/371/jfmuw7k0/sunglass/k/g/r/rb3025i-55-w3237-s-ray-ban-original-imaewccjkafv7vfb.jpeg?q=50\n",
      "https://rukminim1.flixcart.com/image/309/371/k8ho0i80/sunglass/8/9/w/55-0rb3025i006555-ray-ban-original-imafqhhcggzwfyqk.jpeg?q=50\n",
      "https://rukminim1.flixcart.com/image/309/371/k8ho0i80/sunglass/y/6/k/62-0rb3025i002-5862-ray-ban-original-imafqhhcktfeh2vp.jpeg?q=50\n",
      "https://rukminim1.flixcart.com/image/309/371/sunglass/h/t/c/0rb3025iw3276-ray-ban-58-original-imads6euukke2rt7.jpeg?q=50\n",
      "https://rukminim1.flixcart.com/image/309/371/jiulk7k0-1/sunglass/c/z/z/47-0rj9052s178-8047-ray-ban-original-imaf6fudpkmcxyxz.jpeg?q=50\n",
      "https://rukminim1.flixcart.com/image/309/371/j8vy1e80/sunglass/y/u/h/55-0rb35929035d155-ray-ban-original-imaeyt8u4gsssfjr.jpeg?q=50\n",
      "https://rukminim1.flixcart.com/image/309/371/kekadu80-0/sunglass/s/t/f/0rb3025i002-3f58-58-ray-ban-original-imafv7epdvbx6ksu.jpeg?q=50\n",
      "https://rukminim1.flixcart.com/image/309/371/k8ho0i80/sunglass/s/a/j/61-0rb3334i00261-ray-ban-original-imafqhhcqjhm3tgg.jpeg?q=50\n",
      "https://rukminim1.flixcart.com/image/309/371/k8ho0i80/sunglass/7/y/w/57-0rb4312ch601sa157-ray-ban-original-imafqhhc5mf3zzfm.jpeg?q=50\n",
      "https://rukminim1.flixcart.com/image/309/371/sunglass/n/e/d/0rb4165601-8g-ray-ban-55-original-imadrnwpnmkgyhdy.jpeg?q=50\n",
      "https://rukminim1.flixcart.com/image/309/371/sunglass/y/n/a/0rb3025i002-32-ray-ban-55-original-imadrnwp8d3apgjt.jpeg?q=50\n",
      "https://rukminim1.flixcart.com/image/309/371/jcp4b680/sunglass/k/h/r/0rb3025il174458-58-ray-ban-original-imaffmybvfbh4rmx.jpeg?q=50\n",
      "https://rukminim1.flixcart.com/image/309/371/jv6zi4w0/sunglass/m/n/h/0rb368991483158-58-ray-ban-original-imafg572vxghtbk6.jpeg?q=50\n",
      "https://rukminim1.flixcart.com/image/309/371/jcgjo280/sunglass/7/v/x/0rb3025i001-5758-58-ray-ban-original-imaffh7kbchnjefk.jpeg?q=50\n",
      "https://rukminim1.flixcart.com/image/309/371/sunglass/n/e/c/0rb3025i002-37-ray-ban-58-original-imadsj4azfqy9fcp.jpeg?q=50\n",
      "https://rukminim1.flixcart.com/image/309/371/jp1i93k0/sunglass/m/n/z/0rb3098iw096200-57-ray-ban-original-imafb6zswumjww8s.jpeg?q=50\n"
     ]
    }
   ],
   "source": [
    "for image in images:\n",
    "    source=image.get_attribute('src')\n",
    "    urls.append(source)\n",
    "    urls = urls[0:10]\n",
    "    print(source)\n"
   ]
  },
  {
   "cell_type": "code",
   "execution_count": 44,
   "metadata": {},
   "outputs": [
    {
     "data": {
      "text/plain": [
       "10"
      ]
     },
     "execution_count": 44,
     "metadata": {},
     "output_type": "execute_result"
    }
   ],
   "source": [
    "len(urls)"
   ]
  },
  {
   "cell_type": "code",
   "execution_count": 45,
   "metadata": {},
   "outputs": [],
   "source": [
    "import shutil\n",
    "import requests"
   ]
  },
  {
   "cell_type": "code",
   "execution_count": 46,
   "metadata": {},
   "outputs": [
    {
     "name": "stdout",
     "output_type": "stream",
     "text": [
      "downloading of 1 of 10 images from page 1\n",
      "downloading of 2 of 10 images from page 1\n",
      "downloading of 3 of 10 images from page 1\n",
      "downloading of 4 of 10 images from page 1\n",
      "downloading of 5 of 10 images from page 1\n",
      "downloading of 6 of 10 images from page 1\n",
      "downloading of 7 of 10 images from page 1\n",
      "downloading of 8 of 10 images from page 1\n",
      "downloading of 9 of 10 images from page 1\n",
      "downloading of 10 of 10 images from page 1\n"
     ]
    }
   ],
   "source": [
    "page=1\n",
    "for index,link in enumerate (urls):\n",
    "    print(\"downloading of {0} of {1} images from page 1\".format(index+1,len(urls)))\n",
    "    response=requests.get(link)\n",
    "    with open('SUNGLASSES/img_{0}{1}.jpeg'.format(index,page),\"wb\") as file:\n",
    "        file.write(response.content)"
   ]
  },
  {
   "cell_type": "code",
   "execution_count": 54,
   "metadata": {},
   "outputs": [],
   "source": [
    "import numpy as np\n",
    "import cv2\n",
    "import matplotlib.pyplot as plt\n",
    "%matplotlib inline\n"
   ]
  },
  {
   "cell_type": "code",
   "execution_count": 72,
   "metadata": {},
   "outputs": [
    {
     "data": {
      "text/plain": [
       "<matplotlib.image.AxesImage at 0x28d50275f60>"
      ]
     },
     "execution_count": 72,
     "metadata": {},
     "output_type": "execute_result"
    },
    {
     "data": {
      "image/png": "[encoded data removed]",
      "text/plain": [
       "<Figure size 432x288 with 1 Axes>"
      ]
     },
     "metadata": {
      "needs_background": "light"
     },
     "output_type": "display_data"
    }
   ],
   "source": [
    "img = cv2.imread('img_01.jpeg')\n",
    "plt.imshow(img)\n"
   ]
  },
  {
   "cell_type": "code",
   "execution_count": null,
   "metadata": {},
   "outputs": [],
   "source": []
  }
 ],
 "metadata": {
  "kernelspec": {
   "display_name": "Python 3",
   "language": "python",
   "name": "python3"
  },
  "language_info": {
   "codemirror_mode": {
    "name": "ipython",
    "version": 3
   },
   "file_extension": ".py",
   "mimetype": "text/x-python",
   "name": "python",
   "nbconvert_exporter": "python",
   "pygments_lexer": "ipython3",
   "version": "3.6.9"
  }
 },
 "nbformat": 4,
 "nbformat_minor": 2
}
